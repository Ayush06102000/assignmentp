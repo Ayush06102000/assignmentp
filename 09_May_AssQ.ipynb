{
 "cells": [
  {
   "cell_type": "code",
   "execution_count": 3,
   "id": "66254b91",
   "metadata": {},
   "outputs": [],
   "source": [
    "# Q1. Create one variable containing following type of data:\n",
    "# (i) string\n",
    "# (ii) list\n",
    "# (iii) float\n",
    "# (iv) tuple"
   ]
  },
  {
   "cell_type": "code",
   "execution_count": 1,
   "id": "f48924b4",
   "metadata": {},
   "outputs": [
    {
     "name": "stdout",
     "output_type": "stream",
     "text": [
      "<class 'str'>\n",
      "<class 'list'>\n",
      "<class 'float'>\n",
      "<class 'tuple'>\n"
     ]
    }
   ],
   "source": [
    "a='string'\n",
    "b=[1,2,3,4,'a']\n",
    "c=10.4\n",
    "d=(1,2,3,4)\n",
    "print(type(a))\n",
    "print(type(b))\n",
    "print(type(c))\n",
    "print(type(d))"
   ]
  },
  {
   "cell_type": "markdown",
   "id": "fd7e7ab1",
   "metadata": {},
   "source": [
    "  "
   ]
  },
  {
   "cell_type": "code",
   "execution_count": 2,
   "id": "24af8ec4",
   "metadata": {},
   "outputs": [],
   "source": [
    "# Q2. Given are some following variables containing data:\n",
    "# (i) var1 = ‘ ‘\n",
    "# (ii) var2 = ‘[ DS , ML , Python]’\n",
    "# (iii) var3 = [ ‘DS’ , ’ML’ , ‘Python’ ]\n",
    "# (iv) var4 = 1.\n",
    "# What will be the data type of the above given variable."
   ]
  },
  {
   "cell_type": "code",
   "execution_count": 10,
   "id": "af85fffa",
   "metadata": {},
   "outputs": [],
   "source": [
    "# var1 is string\n",
    "# var2 is string\n",
    "# var3 is list\n",
    "# var4 is float"
   ]
  },
  {
   "cell_type": "markdown",
   "id": "90386910",
   "metadata": {},
   "source": [
    "   "
   ]
  },
  {
   "cell_type": "code",
   "execution_count": 11,
   "id": "c7750b29",
   "metadata": {},
   "outputs": [],
   "source": [
    "# Q3. Explain the use of the following operators using an example:\n",
    "# (i) /\n",
    "# (ii) %\n",
    "# (iii) //\n",
    "# (iv) **"
   ]
  },
  {
   "cell_type": "code",
   "execution_count": 14,
   "id": "1c2028c7",
   "metadata": {},
   "outputs": [
    {
     "name": "stdout",
     "output_type": "stream",
     "text": [
      "2.5 1 2 25\n"
     ]
    }
   ],
   "source": [
    "a=5/2   #2.5\n",
    "b=5%2   #1\n",
    "c=5//2  #2\n",
    "d=5**2  #25\n",
    "print(a,b,c,d)"
   ]
  },
  {
   "cell_type": "markdown",
   "id": "b81b3a27",
   "metadata": {},
   "source": [
    " "
   ]
  },
  {
   "cell_type": "markdown",
   "id": "b0b7026e",
   "metadata": {},
   "source": [
    "Q4. Create a list of length 10 of your choice containing multiple types of data. Using for loop print the\n",
    "     element and its data type."
   ]
  },
  {
   "cell_type": "code",
   "execution_count": 29,
   "id": "ba63fa8c",
   "metadata": {},
   "outputs": [
    {
     "name": "stdout",
     "output_type": "stream",
     "text": [
      "10 <class 'int'>\n",
      "10.5 <class 'float'>\n",
      "a <class 'str'>\n",
      "pwskills <class 'str'>\n",
      "True <class 'bool'>\n",
      "False <class 'bool'>\n",
      "b <class 'str'>\n",
      "[56, 14] <class 'list'>\n",
      "(45, 12) <class 'tuple'>\n",
      "3 <class 'int'>\n"
     ]
    }
   ],
   "source": [
    "li=[10,10.5,'a','pwskills',True,False,'b',[56,14],(45,12),3]\n",
    "len(li)\n",
    "for ele in li:\n",
    "    print(ele , type(ele))"
   ]
  },
  {
   "cell_type": "markdown",
   "id": "8ea74e8d",
   "metadata": {},
   "source": [
    " "
   ]
  },
  {
   "cell_type": "markdown",
   "id": "e79b5201",
   "metadata": {},
   "source": [
    "Q5. Using a while loop, verify if the number A is purely divisible by number B and if so then how many\n",
    "times it can be divisible."
   ]
  },
  {
   "cell_type": "code",
   "execution_count": 26,
   "id": "216fdd3b",
   "metadata": {},
   "outputs": [
    {
     "name": "stdout",
     "output_type": "stream",
     "text": [
      "20\n",
      "2\n",
      "2\n"
     ]
    }
   ],
   "source": [
    "a=int(input())\n",
    "b=int(input())\n",
    "i=0\n",
    "while a%b==0:\n",
    "    a=a/b\n",
    "    i=i+1\n",
    "print(i)"
   ]
  },
  {
   "cell_type": "markdown",
   "id": "d4953cbd",
   "metadata": {},
   "source": [
    " "
   ]
  },
  {
   "cell_type": "markdown",
   "id": "e9fb572f",
   "metadata": {},
   "source": [
    "Q6. Create a list containing 25 int type data. Using for loop and if-else condition print if the element is\n",
    "divisible by 3 or not."
   ]
  },
  {
   "cell_type": "code",
   "execution_count": 28,
   "id": "452cc01f",
   "metadata": {},
   "outputs": [
    {
     "name": "stdout",
     "output_type": "stream",
     "text": [
      "3,6,9,12,15,18,21,24,"
     ]
    }
   ],
   "source": [
    "li=[1,2,3,4,5,6,7,8,9,10,11,12,13,14,15,16,17,18,19,20,21,22,23,24,25]\n",
    "for ele in li:\n",
    "    if ele%3==0:\n",
    "        print(ele,end=\",\")"
   ]
  },
  {
   "cell_type": "markdown",
   "id": "56a32119",
   "metadata": {},
   "source": [
    " "
   ]
  },
  {
   "cell_type": "markdown",
   "id": "e695112b",
   "metadata": {},
   "source": [
    "Q7. What do you understand about mutable and immutable data types? Give examples for both showing\n",
    "this property."
   ]
  },
  {
   "cell_type": "code",
   "execution_count": 32,
   "id": "003b7774",
   "metadata": {},
   "outputs": [
    {
     "name": "stdout",
     "output_type": "stream",
     "text": [
      "[1, 2, 3, 8, 5]\n",
      "(1, 2, 3, 4)\n"
     ]
    }
   ],
   "source": [
    "#Mutable data types are that data types which can be changed\n",
    "\n",
    "#Immutable data types are that data types which can't be changed\n",
    "\n",
    "#Example of Mutable data types\n",
    "li=[1,2,3,4,5]\n",
    "li[3]=8\n",
    "print(li)\n",
    "#Example of Immutable data types\n",
    "li1=(1,2,3,4)\n",
    "#li1[3]=5 will show error\n",
    "print(li1)"
   ]
  }
 ],
 "metadata": {
  "kernelspec": {
   "display_name": "Python 3 (ipykernel)",
   "language": "python",
   "name": "python3"
  },
  "language_info": {
   "codemirror_mode": {
    "name": "ipython",
    "version": 3
   },
   "file_extension": ".py",
   "mimetype": "text/x-python",
   "name": "python",
   "nbconvert_exporter": "python",
   "pygments_lexer": "ipython3",
   "version": "3.9.13"
  }
 },
 "nbformat": 4,
 "nbformat_minor": 5
}
