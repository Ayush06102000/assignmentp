{
 "cells": [
  {
   "cell_type": "markdown",
   "id": "e7dc3464",
   "metadata": {},
   "source": [
    "Q1. What is a database? Differentiate between SQL and NoSQL databases."
   ]
  },
  {
   "cell_type": "code",
   "execution_count": 2,
   "id": "2a64003c",
   "metadata": {},
   "outputs": [],
   "source": [
    " #A database is a organized collection of related information that is stored in such a way that it can be easily accessed, retrieved, managed, and updated.\n",
    "\n",
    "  #                  SQL                                   NoSQL\n",
    " #-----------------------------------------------------------------------------------------------------\n",
    " #1.It is a RDBMS                                    1.It is not a RDBMS\n",
    " #2.SQL have predetermined Schema                    2.They don't have predetermined schema\n",
    " #3.Example-Mysql(done in class)                     3.Example-MongoDB(done in class)"
   ]
  },
  {
   "cell_type": "markdown",
   "id": "078c4d07",
   "metadata": {},
   "source": [
    "# "
   ]
  },
  {
   "cell_type": "markdown",
   "id": "aef5e734",
   "metadata": {},
   "source": [
    "Q2. What is DDL? Explain why CREATE, DROP, ALTER, and TRUNCATE are used with an example."
   ]
  },
  {
   "cell_type": "code",
   "execution_count": 3,
   "id": "bc4b2376",
   "metadata": {},
   "outputs": [],
   "source": [
    "# DDL stands for Data Definition Language and it contains the sql command that is used to define the Database schema\n",
    "\n",
    "# Following commands are used in DDL\n",
    "# 1.CREATE: It is used to create either Database or Table\n",
    "#           SYNTAX: CREATE DATABASE database_name;\n",
    "#           EXAMPLE:CREATE DATABASE ayush;\n",
    "          \n",
    "# 2.DROP:This command is used to delete objects from the database.\n",
    "#        SYNTAX: DROP object object_name;\n",
    "#        EXAMPLE:DROP TABLE class;\n",
    "# 3.ALTER:This is used to alter the structure of the database.\n",
    "#         SYNTAX: ALTER TABLE table_name ADD (Columnname_1  datatype, Columnname_2  datatype, …Columnname_n  datatype);\n",
    "#         EXAMPLE:ALTER TABLE Students ADD Email varchar(255);\n",
    "# 4.TRUNCATE:This is used to remove all records from a table, including all spaces allocated for the records are removed.\n",
    "#            SYNTAX: TRUNCATE TABLE  table_name;\n",
    "#            EXAMPLE:TRUNCATE TABLE ayush;"
   ]
  },
  {
   "cell_type": "markdown",
   "id": "6071953c",
   "metadata": {},
   "source": [
    "# "
   ]
  },
  {
   "cell_type": "markdown",
   "id": "a14b6a2b",
   "metadata": {},
   "source": [
    "Q3. What is DML? Explain INSERT, UPDATE, and DELETE with an example."
   ]
  },
  {
   "cell_type": "code",
   "execution_count": 5,
   "id": "9b7b1f1c",
   "metadata": {},
   "outputs": [],
   "source": [
    "# The SQL commands that deal with the manipulation of data present in the database belong to DML or Data Manipulation Language.\n",
    "# 1.INSERT: It is used to insert data into a table.\n",
    "#     EXAMPLE:INSERT INTO Student VALUES ('5','HARSH','BIHAR','XXXXXXXXXX','19');\n",
    "# 2.UPDATE:It is used to update existing data within a table.\n",
    "#     EXAMPLE:UPDATE Customer SET CustomerName = 'Satvik', Country = 'INDIA' WHERE CustomerID = 1;\n",
    "# 3.DELETE:It is used to delete records from a database table.\n",
    "#     EXAMPLE:DELETE FROM EMPLOyees WHERE NAME = 'Rithvik';"
   ]
  },
  {
   "cell_type": "markdown",
   "id": "c94c4a27",
   "metadata": {},
   "source": [
    "# "
   ]
  },
  {
   "cell_type": "markdown",
   "id": "7dfad8e5",
   "metadata": {},
   "source": [
    "Q4. What is DQL? Explain SELECT with an example."
   ]
  },
  {
   "cell_type": "code",
   "execution_count": 14,
   "id": "e5a9c2fd",
   "metadata": {},
   "outputs": [],
   "source": [
    "# DQL statements are used for performing queries on the data within schema objects.\n",
    "# Commands of DQL is\n",
    "# SELECT:It is used to retrieve data from the database.\n",
    "#      EXAMPLE:SELECT * FROM table_name; "
   ]
  },
  {
   "cell_type": "markdown",
   "id": "0e1db940",
   "metadata": {},
   "source": [
    "# "
   ]
  },
  {
   "cell_type": "markdown",
   "id": "5a41d6b0",
   "metadata": {},
   "source": [
    "Q5. Explain Primary Key and Foreign Key."
   ]
  },
  {
   "cell_type": "code",
   "execution_count": 7,
   "id": "e4a20fd1",
   "metadata": {},
   "outputs": [],
   "source": [
    "# A primary key is used to ensure that data in the specific column is unique. A column cannot have NULL values.\n",
    "# A foreign key is a column or group of columns in a relational database table that provides a link between data in two tables."
   ]
  },
  {
   "cell_type": "markdown",
   "id": "8a77548c",
   "metadata": {},
   "source": [
    "# "
   ]
  },
  {
   "cell_type": "markdown",
   "id": "e903b5eb",
   "metadata": {},
   "source": [
    "Q6. Write a python code to connect MySQL to python. Explain the cursor() and execute() method."
   ]
  },
  {
   "cell_type": "code",
   "execution_count": 12,
   "id": "43e927e2",
   "metadata": {},
   "outputs": [],
   "source": [
    "# import mysql.connector\n",
    "# mydb=mysql.connector.connect(\n",
    "#     host=\"localhost\",\n",
    "#     user=\"abc\",\n",
    "#     password=\"password\"\n",
    "# )\n",
    "# mycursor=mydb.cursor()\n",
    "# mycursor.execute(\"CREATE DATABASE if not exists test2\")\n",
    "# mydb.close()\n",
    "\n",
    "# cursor() is a predefined function in a mysql.connector module used to point to the data in the database\n",
    "\n",
    "# execute() is also predefined function in the database used to execute various command of sql in python"
   ]
  },
  {
   "cell_type": "markdown",
   "id": "bd17eb8f",
   "metadata": {},
   "source": [
    "# "
   ]
  },
  {
   "cell_type": "markdown",
   "id": "acb5dd9a",
   "metadata": {},
   "source": [
    "Q7. Give the order of execution of SQL clauses in an SQL query."
   ]
  },
  {
   "cell_type": "code",
   "execution_count": 13,
   "id": "addf0a49",
   "metadata": {},
   "outputs": [],
   "source": [
    "# Order        Clause                      Function\n",
    "#  1            FROM             Tables are joined to get the base data.\n",
    "#  2            WHERE            The base data is filtered.\n",
    "#  3            GROUP            BY The filtered base data is grouped.\n",
    "#  4            HAVING           The grouped base data is filtered.\n",
    "#  5            SELECT           The final data is returned.\n",
    "#  6            ORDER            BY The final data is sorted.\n",
    "#  7            LIMIT            The returned data is limited to row count."
   ]
  }
 ],
 "metadata": {
  "kernelspec": {
   "display_name": "Python 3 (ipykernel)",
   "language": "python",
   "name": "python3"
  },
  "language_info": {
   "codemirror_mode": {
    "name": "ipython",
    "version": 3
   },
   "file_extension": ".py",
   "mimetype": "text/x-python",
   "name": "python",
   "nbconvert_exporter": "python",
   "pygments_lexer": "ipython3",
   "version": "3.9.13"
  }
 },
 "nbformat": 4,
 "nbformat_minor": 5
}
